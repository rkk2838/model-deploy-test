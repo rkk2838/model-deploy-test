{
 "cells": [
  {
   "cell_type": "markdown",
   "metadata": {},
   "source": [
    "#### Prediction using the direct pickle file"
   ]
  },
  {
   "cell_type": "code",
   "execution_count": 1,
   "metadata": {},
   "outputs": [],
   "source": [
    "import pickle\n",
    "with open('model.pkl','rb') as f:\n",
    "    model = pickle.load(f)"
   ]
  },
  {
   "cell_type": "code",
   "execution_count": 2,
   "metadata": {},
   "outputs": [
    {
     "name": "stderr",
     "output_type": "stream",
     "text": [
      "/Users/ravikantkumar/anaconda3/envs/test_env/lib/python3.12/site-packages/sklearn/base.py:493: UserWarning: X does not have valid feature names, but DecisionTreeClassifier was fitted with feature names\n",
      "  warnings.warn(\n"
     ]
    },
    {
     "data": {
      "text/plain": [
       "array([1])"
      ]
     },
     "execution_count": 2,
     "metadata": {},
     "output_type": "execute_result"
    }
   ],
   "source": [
    "# Predicting using the loaded pickle file\n",
    "single_prediction  = model.predict([[7.5, 0.65, 0.12, 2.1, 0.085, 12.0, 45.0, 0.9975, 3.35, 0.60, 10.2]])\n",
    "single_prediction"
   ]
  },
  {
   "cell_type": "markdown",
   "metadata": {},
   "source": [
    "#### Predicting from the pickle file which have been saved through mlflow"
   ]
  },
  {
   "cell_type": "code",
   "execution_count": 3,
   "metadata": {},
   "outputs": [
    {
     "name": "stderr",
     "output_type": "stream",
     "text": [
      "/Users/ravikantkumar/anaconda3/envs/test_env/lib/python3.12/site-packages/sklearn/base.py:493: UserWarning: X does not have valid feature names, but DecisionTreeClassifier was fitted with feature names\n",
      "  warnings.warn(\n"
     ]
    },
    {
     "data": {
      "text/plain": [
       "array([1])"
      ]
     },
     "execution_count": 3,
     "metadata": {},
     "output_type": "execute_result"
    }
   ],
   "source": [
    "import mlflow\n",
    "\n",
    "# This is the model which have been loaded\n",
    "logged_model = 'runs:/a5896db75c1a4fea804ddcd5eb41a1dd/Classification-Model'\n",
    "\n",
    "# Now, logged model needs to be loaded as a PyFuncModel.\n",
    "loaded_model = mlflow.pyfunc.load_model(logged_model)\n",
    "\n",
    "# NOw, prediciting with loaded model\n",
    "\n",
    "single_prediction  = loaded_model.predict([[7.5, 0.65, 0.12, 2.1, 0.085, 12.0, 45.0, 0.9975, 3.35, 0.60, 10.2]])\n",
    "single_prediction"
   ]
  },
  {
   "cell_type": "markdown",
   "metadata": {},
   "source": [
    "#### Loading the model from best run for a given experiment"
   ]
  },
  {
   "cell_type": "code",
   "execution_count": 6,
   "metadata": {},
   "outputs": [],
   "source": [
    "# Importing the Mlflowclinet library\n",
    "import mlflow\n",
    "from mlflow.tracking import MlflowClient"
   ]
  },
  {
   "cell_type": "code",
   "execution_count": 7,
   "metadata": {},
   "outputs": [],
   "source": [
    "# Intializing the MlflowClient to interact with the tracking server i.e. the records that \n",
    "# is being recorded in mlrun folder\n",
    "client = MlflowClient()"
   ]
  },
  {
   "cell_type": "code",
   "execution_count": 9,
   "metadata": {},
   "outputs": [],
   "source": [
    "# Defining the experiment name for which we want to fetch the details\n",
    "experiment_name = \"Wine Quality classification Experiment\"\n",
    "experiment = client.get_experiment_by_name(experiment_name)\n",
    "experiment_id = experiment.experiment_id"
   ]
  },
  {
   "cell_type": "code",
   "execution_count": 13,
   "metadata": {},
   "outputs": [
    {
     "data": {
      "text/plain": [
       "'179020510512775425'"
      ]
     },
     "execution_count": 13,
     "metadata": {},
     "output_type": "execute_result"
    }
   ],
   "source": [
    "experiment_id"
   ]
  },
  {
   "cell_type": "markdown",
   "metadata": {},
   "source": [
    "Order_by values are the values which are columns of the table for a given experiment_id or name."
   ]
  },
  {
   "cell_type": "code",
   "execution_count": 72,
   "metadata": {},
   "outputs": [],
   "source": [
    "# Getting all the runs for the given experiment_id\n",
    "# https://mlflow.org/docs/latest/search-runs.html\n",
    "\n",
    "runs = client.search_runs(\n",
    "    experiment_ids = [experiment_id],\n",
    "    # filter_strings = \"\", # Add filter string if needed\n",
    "    # order_by  = [\"metrics.accuracy Desc\"] # One way to sort the runs\n",
    "    order_by= ['Created desc'] # Another way to sort the runs\n",
    ")"
   ]
  },
  {
   "cell_type": "code",
   "execution_count": 73,
   "metadata": {},
   "outputs": [
    {
     "data": {
      "text/plain": [
       "mlflow.store.entities.paged_list.PagedList"
      ]
     },
     "execution_count": 73,
     "metadata": {},
     "output_type": "execute_result"
    }
   ],
   "source": [
    "type(runs)"
   ]
  },
  {
   "cell_type": "code",
   "execution_count": 74,
   "metadata": {},
   "outputs": [],
   "source": [
    "# This will give the best run as we have order the runs on the basis of accuracy\n",
    "best_run = runs[0]"
   ]
  },
  {
   "cell_type": "code",
   "execution_count": 75,
   "metadata": {},
   "outputs": [
    {
     "name": "stdout",
     "output_type": "stream",
     "text": [
      "<class 'mlflow.entities.run.Run'>\n",
      "<RunInfo: artifact_uri='/Users/ravikantkumar/myspace/model_testing/mlruns/179020510512775425/ebaa8106e4124e93aecf6b3879528c06/artifacts', end_time=1716043946365, experiment_id='179020510512775425', lifecycle_stage='active', run_id='ebaa8106e4124e93aecf6b3879528c06', run_name='fun-mole-236', run_uuid='ebaa8106e4124e93aecf6b3879528c06', start_time=1716043945217, status='FINISHED', user_id='ravikantkumar'>\n",
      "\n",
      "ebaa8106e4124e93aecf6b3879528c06\n"
     ]
    }
   ],
   "source": [
    "print(type(best_run))\n",
    "print(best_run.info)\n",
    "print()\n",
    "print(best_run.info.run_id)"
   ]
  },
  {
   "cell_type": "code",
   "execution_count": 76,
   "metadata": {},
   "outputs": [
    {
     "data": {
      "text/plain": [
       "<Run: data=<RunData: metrics={'Accuracy': 0.9125, 'Precision': 0.9125, 'Recall': 0.569078947368421}, params={}, tags={'Author': 'Rkk',\n",
       " 'Version_run': '4',\n",
       " 'mlflow.log-model.history': '[{\"run_id\": \"ebaa8106e4124e93aecf6b3879528c06\", '\n",
       "                             '\"artifact_path\": \"Classification-Model\", '\n",
       "                             '\"utc_time_created\": \"2024-05-18 '\n",
       "                             '14:52:25.221868\", \"flavors\": {\"python_function\": '\n",
       "                             '{\"model_path\": \"model.pkl\", \"predict_fn\": '\n",
       "                             '\"predict\", \"loader_module\": \"mlflow.sklearn\", '\n",
       "                             '\"python_version\": \"3.12.3\", \"env\": {\"conda\": '\n",
       "                             '\"conda.yaml\", \"virtualenv\": \"python_env.yaml\"}}, '\n",
       "                             '\"sklearn\": {\"pickled_model\": \"model.pkl\", '\n",
       "                             '\"sklearn_version\": \"1.4.2\", '\n",
       "                             '\"serialization_format\": \"cloudpickle\", \"code\": '\n",
       "                             'null}}, \"model_uuid\": '\n",
       "                             '\"5394f48cd2314022b86b61dd23bb8eec\", '\n",
       "                             '\"mlflow_version\": \"2.12.2\", \"model_size_bytes\": '\n",
       "                             '15067}]',\n",
       " 'mlflow.runName': 'fun-mole-236',\n",
       " 'mlflow.source.name': '/Users/ravikantkumar/anaconda3/envs/test_env/lib/python3.12/site-packages/ipykernel_launcher.py',\n",
       " 'mlflow.source.type': 'LOCAL',\n",
       " 'mlflow.user': 'ravikantkumar',\n",
       " 'model_type': 'DecisionTreeClassifier'}>, info=<RunInfo: artifact_uri='/Users/ravikantkumar/myspace/model_testing/mlruns/179020510512775425/ebaa8106e4124e93aecf6b3879528c06/artifacts', end_time=1716043946365, experiment_id='179020510512775425', lifecycle_stage='active', run_id='ebaa8106e4124e93aecf6b3879528c06', run_name='fun-mole-236', run_uuid='ebaa8106e4124e93aecf6b3879528c06', start_time=1716043945217, status='FINISHED', user_id='ravikantkumar'>, inputs=<RunInputs: dataset_inputs=[]>>"
      ]
     },
     "execution_count": 76,
     "metadata": {},
     "output_type": "execute_result"
    }
   ],
   "source": [
    "best_run"
   ]
  },
  {
   "cell_type": "code",
   "execution_count": 49,
   "metadata": {},
   "outputs": [
    {
     "data": {
      "text/plain": [
       "'[{\"run_id\": \"ebaa8106e4124e93aecf6b3879528c06\", \"artifact_path\": \"Classification-Model\", \"utc_time_created\": \"2024-05-18 14:52:25.221868\", \"flavors\": {\"python_function\": {\"model_path\": \"model.pkl\", \"predict_fn\": \"predict\", \"loader_module\": \"mlflow.sklearn\", \"python_version\": \"3.12.3\", \"env\": {\"conda\": \"conda.yaml\", \"virtualenv\": \"python_env.yaml\"}}, \"sklearn\": {\"pickled_model\": \"model.pkl\", \"sklearn_version\": \"1.4.2\", \"serialization_format\": \"cloudpickle\", \"code\": null}}, \"model_uuid\": \"5394f48cd2314022b86b61dd23bb8eec\", \"mlflow_version\": \"2.12.2\", \"model_size_bytes\": 15067}]'"
      ]
     },
     "execution_count": 49,
     "metadata": {},
     "output_type": "execute_result"
    }
   ],
   "source": [
    "# As we can see that our model data is present in the mlflow.log-model.history. so we will\n",
    "# get its details using the below code\n",
    "best_run.data.tags.get('mlflow.log-model.history')"
   ]
  },
  {
   "cell_type": "code",
   "execution_count": 61,
   "metadata": {},
   "outputs": [
    {
     "data": {
      "text/plain": [
       "str"
      ]
     },
     "execution_count": 61,
     "metadata": {},
     "output_type": "execute_result"
    }
   ],
   "source": [
    "type(best_run.data.tags.get('mlflow.log-model.history'))"
   ]
  },
  {
   "cell_type": "code",
   "execution_count": 62,
   "metadata": {},
   "outputs": [
    {
     "data": {
      "text/plain": [
       "[{'run_id': 'ebaa8106e4124e93aecf6b3879528c06',\n",
       "  'artifact_path': 'Classification-Model',\n",
       "  'utc_time_created': '2024-05-18 14:52:25.221868',\n",
       "  'flavors': {'python_function': {'model_path': 'model.pkl',\n",
       "    'predict_fn': 'predict',\n",
       "    'loader_module': 'mlflow.sklearn',\n",
       "    'python_version': '3.12.3',\n",
       "    'env': {'conda': 'conda.yaml', 'virtualenv': 'python_env.yaml'}},\n",
       "   'sklearn': {'pickled_model': 'model.pkl',\n",
       "    'sklearn_version': '1.4.2',\n",
       "    'serialization_format': 'cloudpickle',\n",
       "    'code': None}},\n",
       "  'model_uuid': '5394f48cd2314022b86b61dd23bb8eec',\n",
       "  'mlflow_version': '2.12.2',\n",
       "  'model_size_bytes': 15067}]"
      ]
     },
     "execution_count": 62,
     "metadata": {},
     "output_type": "execute_result"
    }
   ],
   "source": [
    "# One thing we should remember that out that we are getting from best_run.data.tags.get('mlflow.log-model.history')\n",
    "# is of str type as shown above but actually is of type json string.\n",
    "# so will load the data in the json format\n",
    "import json\n",
    "json_str = best_run.data.tags.get('mlflow.log-model.history')\n",
    "data  = json.loads(json_str)\n",
    "data"
   ]
  },
  {
   "cell_type": "code",
   "execution_count": 63,
   "metadata": {},
   "outputs": [
    {
     "data": {
      "text/plain": [
       "{'run_id': 'ebaa8106e4124e93aecf6b3879528c06',\n",
       " 'artifact_path': 'Classification-Model',\n",
       " 'utc_time_created': '2024-05-18 14:52:25.221868',\n",
       " 'flavors': {'python_function': {'model_path': 'model.pkl',\n",
       "   'predict_fn': 'predict',\n",
       "   'loader_module': 'mlflow.sklearn',\n",
       "   'python_version': '3.12.3',\n",
       "   'env': {'conda': 'conda.yaml', 'virtualenv': 'python_env.yaml'}},\n",
       "  'sklearn': {'pickled_model': 'model.pkl',\n",
       "   'sklearn_version': '1.4.2',\n",
       "   'serialization_format': 'cloudpickle',\n",
       "   'code': None}},\n",
       " 'model_uuid': '5394f48cd2314022b86b61dd23bb8eec',\n",
       " 'mlflow_version': '2.12.2',\n",
       " 'model_size_bytes': 15067}"
      ]
     },
     "execution_count": 63,
     "metadata": {},
     "output_type": "execute_result"
    }
   ],
   "source": [
    "# for getting the dictionary from it\n",
    "data[0]"
   ]
  },
  {
   "cell_type": "code",
   "execution_count": 57,
   "metadata": {},
   "outputs": [
    {
     "data": {
      "text/plain": [
       "'ebaa8106e4124e93aecf6b3879528c06'"
      ]
     },
     "execution_count": 57,
     "metadata": {},
     "output_type": "execute_result"
    }
   ],
   "source": [
    "data[0]['run_id']"
   ]
  },
  {
   "cell_type": "markdown",
   "metadata": {},
   "source": [
    "###### Below model_uri format \n",
    "**The model Uri format is same as we get it in the mlflow run-artifacts  as given below :**\n",
    "\n",
    "import mlflow<br>\n",
    "logged_model = 'runs:/ebaa8106e4124e93aecf6b3879528c06/Classification-Model'<br><br>\n",
    "\n",
    "Load model as a PyFuncModel.<br>\n",
    "loaded_model = mlflow.pyfunc.load_model(logged_model)<br><br>\n",
    "\n",
    "Predict on a Pandas DataFrame.<br>\n",
    "import pandas as pd<br>\n",
    "loaded_model.predict(pd.DataFrame(data))<br>\n"
   ]
  },
  {
   "cell_type": "code",
   "execution_count": 59,
   "metadata": {},
   "outputs": [
    {
     "name": "stdout",
     "output_type": "stream",
     "text": [
      "[1]\n"
     ]
    },
    {
     "name": "stderr",
     "output_type": "stream",
     "text": [
      "/Users/ravikantkumar/anaconda3/envs/test_env/lib/python3.12/site-packages/sklearn/base.py:493: UserWarning: X does not have valid feature names, but DecisionTreeClassifier was fitted with feature names\n",
      "  warnings.warn(\n"
     ]
    }
   ],
   "source": [
    "# Loading the model from the best run\n",
    "model_uri = f\"runs:/{data[0]['run_id']}/{data[0]['artifact_path']}\"\n",
    "model = mlflow.sklearn.load_model(model_uri)\n",
    "\n",
    "\n",
    "testing_value = [[7.5, 0.65, 0.12, 2.1, 0.085, 12.0, 45.0, 0.9975, 3.35, 0.60, 10.2]]\n",
    "\n",
    "predictions = model.predict(testing_value)\n",
    "print(predictions)"
   ]
  },
  {
   "cell_type": "markdown",
   "metadata": {},
   "source": [
    "##### IN case if wanted to get the all the values of the best_run then"
   ]
  },
  {
   "cell_type": "code",
   "execution_count": 64,
   "metadata": {},
   "outputs": [
    {
     "name": "stdout",
     "output_type": "stream",
     "text": [
      "run_id: ebaa8106e4124e93aecf6b3879528c06\n",
      "artifact_path: Classification-Model\n",
      "utc_time_created: 2024-05-18 14:52:25.221868\n",
      "flavors: {'python_function': {'model_path': 'model.pkl', 'predict_fn': 'predict', 'loader_module': 'mlflow.sklearn', 'python_version': '3.12.3', 'env': {'conda': 'conda.yaml', 'virtualenv': 'python_env.yaml'}}, 'sklearn': {'pickled_model': 'model.pkl', 'sklearn_version': '1.4.2', 'serialization_format': 'cloudpickle', 'code': None}}\n",
      "model_uuid: 5394f48cd2314022b86b61dd23bb8eec\n",
      "mlflow_version: 2.12.2\n",
      "model_size_bytes: 15067\n",
      "Python function flavor details:\n",
      "  model_path: model.pkl\n",
      "  predict_fn: predict\n",
      "  loader_module: mlflow.sklearn\n",
      "  python_version: 3.12.3\n",
      "  env: {'conda': 'conda.yaml', 'virtualenv': 'python_env.yaml'}\n",
      "Sklearn flavor details:\n",
      "  pickled_model: model.pkl\n",
      "  sklearn_version: 1.4.2\n",
      "  serialization_format: cloudpickle\n"
     ]
    }
   ],
   "source": [
    "# In case if we wanted to print all the details under the best run value then :\n",
    "import json\n",
    "\n",
    "# Provided JSON string\n",
    "json_str = json_str\n",
    "\n",
    "# Parse the JSON string\n",
    "data = json.loads(json_str)\n",
    "\n",
    "# Extract the dictionary (assuming there is only one dictionary in the list)\n",
    "model_info = data[0]\n",
    "\n",
    "# Print the values\n",
    "print(\"run_id:\", model_info[\"run_id\"])\n",
    "print(\"artifact_path:\", model_info[\"artifact_path\"])\n",
    "print(\"utc_time_created:\", model_info[\"utc_time_created\"])\n",
    "print(\"flavors:\", model_info[\"flavors\"])\n",
    "print(\"model_uuid:\", model_info[\"model_uuid\"])\n",
    "print(\"mlflow_version:\", model_info[\"mlflow_version\"])\n",
    "print(\"model_size_bytes:\", model_info[\"model_size_bytes\"])\n",
    "\n",
    "# If you want to access individual flavor details:\n",
    "python_function_flavor = model_info[\"flavors\"][\"python_function\"]\n",
    "sklearn_flavor = model_info[\"flavors\"][\"sklearn\"]\n",
    "\n",
    "print(\"Python function flavor details:\")\n",
    "print(\"  model_path:\", python_function_flavor[\"model_path\"])\n",
    "print(\"  predict_fn:\", python_function_flavor[\"predict_fn\"])\n",
    "print(\"  loader_module:\", python_function_flavor[\"loader_module\"])\n",
    "print(\"  python_version:\", python_function_flavor[\"python_version\"])\n",
    "print(\"  env:\", python_function_flavor[\"env\"])\n",
    "\n",
    "print(\"Sklearn flavor details:\")\n",
    "print(\"  pickled_model:\", sklearn_flavor[\"pickled_model\"])\n",
    "print(\"  sklearn_version:\", sklearn_flavor[\"sklearn_version\"])\n",
    "print(\"  serialization_format:\", sklearn_flavor[\"serialization_format\"])\n"
   ]
  },
  {
   "cell_type": "code",
   "execution_count": null,
   "metadata": {},
   "outputs": [],
   "source": []
  }
 ],
 "metadata": {
  "kernelspec": {
   "display_name": "test_env",
   "language": "python",
   "name": "python3"
  },
  "language_info": {
   "codemirror_mode": {
    "name": "ipython",
    "version": 3
   },
   "file_extension": ".py",
   "mimetype": "text/x-python",
   "name": "python",
   "nbconvert_exporter": "python",
   "pygments_lexer": "ipython3",
   "version": "3.12.3"
  }
 },
 "nbformat": 4,
 "nbformat_minor": 2
}
